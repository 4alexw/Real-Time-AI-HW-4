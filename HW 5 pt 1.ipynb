{
 "cells": [
  {
   "cell_type": "code",
   "execution_count": 1,
   "metadata": {},
   "outputs": [
    {
     "data": {
      "text/plain": [
       "<torch._C.Generator at 0x1e5252e6730>"
      ]
     },
     "execution_count": 1,
     "metadata": {},
     "output_type": "execute_result"
    }
   ],
   "source": [
    "%matplotlib inline\n",
    "from matplotlib import pyplot as plt\n",
    "import numpy as np\n",
    "import torch\n",
    "\n",
    "torch.set_printoptions(edgeitems=2)\n",
    "torch.manual_seed(123)"
   ]
  },
  {
   "cell_type": "code",
   "execution_count": 2,
   "metadata": {},
   "outputs": [],
   "source": [
    "class_names = ['airplane','automobile','bird','cat','deer',\n",
    "               'dog','frog','horse','ship','truck']"
   ]
  },
  {
   "cell_type": "code",
   "execution_count": 3,
   "metadata": {},
   "outputs": [],
   "source": [
    "from torchvision import datasets, transforms\n",
    "data_path = '../data-unversioned/p1ch7/'\n",
    "cifar10 = datasets.CIFAR10(\n",
    "    data_path, train=True, download=False,\n",
    "    transform=transforms.Compose([\n",
    "        transforms.ToTensor(),\n",
    "        transforms.Normalize((0.4915, 0.4823, 0.4468),\n",
    "                             (0.2470, 0.2435, 0.2616))\n",
    "    ]))"
   ]
  },
  {
   "cell_type": "code",
   "execution_count": 4,
   "metadata": {},
   "outputs": [],
   "source": [
    "cifar10_val = datasets.CIFAR10(\n",
    "    data_path, train=False, download=False,\n",
    "    transform=transforms.Compose([\n",
    "        transforms.ToTensor(),\n",
    "        transforms.Normalize((0.4915, 0.4823, 0.4468),\n",
    "                             (0.2470, 0.2435, 0.2616))\n",
    "    ]))"
   ]
  },
  {
   "cell_type": "code",
   "execution_count": 5,
   "metadata": {},
   "outputs": [],
   "source": [
    "label_map = {6: 0, 7: 1, 8: 2, 9:3}\n",
    "class_names = ['frog', 'horse', 'ship', \"truck\"]\n",
    "cifar2 = [(img, label_map[label])\n",
    "          for img, label in cifar10 \n",
    "          if label in [6, 7, 8, 9]]\n",
    "cifar2_val = [(img, label_map[label])\n",
    "              for img, label in cifar10_val\n",
    "              if label in [6, 7, 8, 9]]"
   ]
  },
  {
   "cell_type": "code",
   "execution_count": 6,
   "metadata": {},
   "outputs": [],
   "source": [
    "import torch.nn as nn\n",
    "\n",
    "n_out = 2\n",
    "\n",
    "model = nn.Sequential(\n",
    "            nn.Linear(\n",
    "                3072,  # <1>\n",
    "                512,   # <2>\n",
    "            ),\n",
    "            nn.Tanh(),\n",
    "            nn.Linear(\n",
    "                512,   # <2>\n",
    "                n_out, # <3>\n",
    "            )\n",
    "        )"
   ]
  },
  {
   "cell_type": "code",
   "execution_count": 7,
   "metadata": {},
   "outputs": [],
   "source": [
    "def softmax(x):\n",
    "    return torch.exp(x) / torch.exp(x).sum()"
   ]
  },
  {
   "cell_type": "code",
   "execution_count": 8,
   "metadata": {},
   "outputs": [
    {
     "data": {
      "text/plain": [
       "tensor([0.0900, 0.2447, 0.6652])"
      ]
     },
     "execution_count": 8,
     "metadata": {},
     "output_type": "execute_result"
    }
   ],
   "source": [
    "x = torch.tensor([1.0, 2.0, 3.0])\n",
    "\n",
    "softmax(x)"
   ]
  },
  {
   "cell_type": "code",
   "execution_count": 9,
   "metadata": {},
   "outputs": [
    {
     "data": {
      "text/plain": [
       "tensor(1.)"
      ]
     },
     "execution_count": 9,
     "metadata": {},
     "output_type": "execute_result"
    }
   ],
   "source": [
    "softmax(x).sum()"
   ]
  },
  {
   "cell_type": "code",
   "execution_count": 10,
   "metadata": {},
   "outputs": [
    {
     "data": {
      "text/plain": [
       "tensor([[0.0900, 0.2447, 0.6652],\n",
       "        [0.0900, 0.2447, 0.6652]])"
      ]
     },
     "execution_count": 10,
     "metadata": {},
     "output_type": "execute_result"
    }
   ],
   "source": [
    "softmax = nn.Softmax(dim=1)\n",
    "\n",
    "x = torch.tensor([[1.0, 2.0, 3.0],\n",
    "                  [1.0, 2.0, 3.0]])\n",
    "\n",
    "softmax(x)"
   ]
  },
  {
   "cell_type": "code",
   "execution_count": 11,
   "metadata": {},
   "outputs": [],
   "source": [
    "model = nn.Sequential(\n",
    "            nn.Linear(3072, 512),\n",
    "            nn.Tanh(),\n",
    "            nn.Linear(512, 2),\n",
    "            nn.Softmax(dim=1))"
   ]
  },
  {
   "cell_type": "code",
   "execution_count": 12,
   "metadata": {},
   "outputs": [
    {
     "data": {
      "text/plain": [
       "tensor([[1., 0.],\n",
       "        [1., 0.],\n",
       "        [0., 1.],\n",
       "        [0., 1.]])"
      ]
     },
     "execution_count": 12,
     "metadata": {},
     "output_type": "execute_result"
    }
   ],
   "source": [
    "out = torch.tensor([\n",
    "    [0.6, 0.4],\n",
    "    [0.9, 0.1],\n",
    "    [0.3, 0.7],\n",
    "    [0.2, 0.8],\n",
    "])\n",
    "class_index = torch.tensor([0, 0, 1, 1]).unsqueeze(1)\n",
    "\n",
    "truth = torch.zeros((4,2))\n",
    "truth.scatter_(dim=1, index=class_index, value=1.0)\n",
    "truth"
   ]
  },
  {
   "cell_type": "code",
   "execution_count": 13,
   "metadata": {},
   "outputs": [
    {
     "data": {
      "text/plain": [
       "tensor(0.1500)"
      ]
     },
     "execution_count": 13,
     "metadata": {},
     "output_type": "execute_result"
    }
   ],
   "source": [
    "def mse(out):\n",
    "    return ((out - truth) ** 2).sum(dim=1).mean()\n",
    "mse(out)"
   ]
  },
  {
   "cell_type": "code",
   "execution_count": 14,
   "metadata": {},
   "outputs": [
    {
     "data": {
      "text/plain": [
       "tensor([[0.6000],\n",
       "        [0.9000],\n",
       "        [0.7000],\n",
       "        [0.8000]])"
      ]
     },
     "execution_count": 14,
     "metadata": {},
     "output_type": "execute_result"
    }
   ],
   "source": [
    "out.gather(dim=1, index=class_index)"
   ]
  },
  {
   "cell_type": "code",
   "execution_count": 15,
   "metadata": {},
   "outputs": [
    {
     "data": {
      "text/plain": [
       "tensor([0.3024])"
      ]
     },
     "execution_count": 15,
     "metadata": {},
     "output_type": "execute_result"
    }
   ],
   "source": [
    "def likelihood(out):\n",
    "    prod = 1.0\n",
    "    for x in out.gather(dim=1, index=class_index):\n",
    "        prod *= x\n",
    "    return prod\n",
    "\n",
    "likelihood(out) #skipped"
   ]
  },
  {
   "cell_type": "code",
   "execution_count": 16,
   "metadata": {},
   "outputs": [
    {
     "data": {
      "text/plain": [
       "tensor([1.1960])"
      ]
     },
     "execution_count": 16,
     "metadata": {},
     "output_type": "execute_result"
    }
   ],
   "source": [
    "def neg_log_likelihood(out):\n",
    "    return -likelihood(out).log()\n",
    "\n",
    "neg_log_likelihood(out) #skipped steps"
   ]
  },
  {
   "cell_type": "code",
   "execution_count": 17,
   "metadata": {},
   "outputs": [
    {
     "data": {
      "text/plain": [
       "tensor([[0., 1.]])"
      ]
     },
     "execution_count": 17,
     "metadata": {},
     "output_type": "execute_result"
    }
   ],
   "source": [
    "softmax = nn.Softmax(dim=1)\n",
    "\n",
    "log_softmax = nn.LogSoftmax(dim=1)\n",
    "\n",
    "x = torch.tensor([[0.0, 104.0]])\n",
    "\n",
    "softmax(x)"
   ]
  },
  {
   "cell_type": "code",
   "execution_count": 18,
   "metadata": {},
   "outputs": [
    {
     "data": {
      "text/plain": [
       "tensor([[-inf, 0.]])"
      ]
     },
     "execution_count": 18,
     "metadata": {},
     "output_type": "execute_result"
    }
   ],
   "source": [
    "torch.log(softmax(x))"
   ]
  },
  {
   "cell_type": "code",
   "execution_count": 19,
   "metadata": {},
   "outputs": [
    {
     "data": {
      "text/plain": [
       "tensor([[-104.,    0.]])"
      ]
     },
     "execution_count": 19,
     "metadata": {},
     "output_type": "execute_result"
    }
   ],
   "source": [
    "log_softmax(x)"
   ]
  },
  {
   "cell_type": "code",
   "execution_count": 20,
   "metadata": {},
   "outputs": [
    {
     "data": {
      "text/plain": [
       "tensor([[0., 1.]])"
      ]
     },
     "execution_count": 20,
     "metadata": {},
     "output_type": "execute_result"
    }
   ],
   "source": [
    "torch.exp(log_softmax(x))"
   ]
  },
  {
   "cell_type": "code",
   "execution_count": 21,
   "metadata": {},
   "outputs": [],
   "source": [
    "model = nn.Sequential(\n",
    "            nn.Linear(3072, 512),\n",
    "            nn.Tanh(),\n",
    "            nn.Linear(512, 2),\n",
    "            nn.LogSoftmax(dim=1))"
   ]
  },
  {
   "cell_type": "code",
   "execution_count": 22,
   "metadata": {},
   "outputs": [],
   "source": [
    "loss = nn.NLLLoss()"
   ]
  },
  {
   "cell_type": "code",
   "execution_count": 23,
   "metadata": {},
   "outputs": [
    {
     "data": {
      "text/plain": [
       "tensor(0.8378, grad_fn=<NllLossBackward>)"
      ]
     },
     "execution_count": 23,
     "metadata": {},
     "output_type": "execute_result"
    }
   ],
   "source": [
    "img, label = cifar2[0]\n",
    "\n",
    "out = model(img.view(-1).unsqueeze(0))\n",
    "\n",
    "loss(out, torch.tensor([label]))"
   ]
  },
  {
   "cell_type": "code",
   "execution_count": 24,
   "metadata": {},
   "outputs": [],
   "source": [
    "train_loader = torch.utils.data.DataLoader(cifar2, batch_size=64,\n",
    "                                           shuffle=True)"
   ]
  },
  {
   "cell_type": "code",
   "execution_count": 25,
   "metadata": {},
   "outputs": [],
   "source": [
    "start = torch.cuda.Event(enable_timing=True)\n",
    "end = torch.cuda.Event(enable_timing=True)"
   ]
  },
  {
   "cell_type": "code",
   "execution_count": null,
   "metadata": {},
   "outputs": [],
   "source": []
  },
  {
   "cell_type": "code",
   "execution_count": 32,
   "metadata": {},
   "outputs": [
    {
     "name": "stdout",
     "output_type": "stream",
     "text": [
      "Epoch: 0, Loss: 0.727099\n",
      "Epoch: 1, Loss: 0.649742\n",
      "Epoch: 2, Loss: 0.692860\n",
      "Epoch: 3, Loss: 0.756982\n",
      "Epoch: 4, Loss: 0.676125\n",
      "Epoch: 5, Loss: 0.492238\n",
      "Epoch: 6, Loss: 0.483755\n",
      "Epoch: 7, Loss: 0.658748\n",
      "Epoch: 8, Loss: 0.422973\n",
      "Epoch: 9, Loss: 0.616509\n",
      "Epoch: 10, Loss: 0.550690\n",
      "Epoch: 11, Loss: 0.387664\n",
      "Epoch: 12, Loss: 0.809863\n",
      "Epoch: 13, Loss: 0.435375\n",
      "Epoch: 14, Loss: 0.368526\n",
      "Epoch: 15, Loss: 0.368671\n",
      "Epoch: 16, Loss: 0.633040\n",
      "Epoch: 17, Loss: 0.435051\n",
      "Epoch: 18, Loss: 0.284163\n",
      "Epoch: 19, Loss: 0.273892\n",
      "Epoch: 20, Loss: 0.365163\n",
      "Epoch: 21, Loss: 0.493128\n",
      "Epoch: 22, Loss: 0.296947\n",
      "Epoch: 23, Loss: 0.340199\n",
      "Epoch: 24, Loss: 0.175093\n",
      "Epoch: 25, Loss: 0.282947\n",
      "Epoch: 26, Loss: 0.216239\n",
      "Epoch: 27, Loss: 0.253363\n",
      "Epoch: 28, Loss: 0.181301\n",
      "Epoch: 29, Loss: 0.188557\n",
      "Epoch: 30, Loss: 0.113795\n",
      "Epoch: 31, Loss: 0.172952\n",
      "Epoch: 32, Loss: 0.177758\n",
      "Epoch: 33, Loss: 0.176157\n",
      "Epoch: 34, Loss: 0.086439\n",
      "Epoch: 35, Loss: 0.153306\n",
      "Epoch: 36, Loss: 0.157504\n",
      "Epoch: 37, Loss: 0.085582\n",
      "Epoch: 38, Loss: 0.140932\n",
      "Epoch: 39, Loss: 0.072561\n",
      "Epoch: 40, Loss: 0.109068\n",
      "Epoch: 41, Loss: 0.113733\n",
      "Epoch: 42, Loss: 0.084361\n",
      "Epoch: 43, Loss: 0.043009\n",
      "Epoch: 44, Loss: 0.108843\n",
      "Epoch: 45, Loss: 0.062087\n",
      "Epoch: 46, Loss: 0.033501\n",
      "Epoch: 47, Loss: 0.073031\n",
      "Epoch: 48, Loss: 0.056971\n",
      "Epoch: 49, Loss: 0.078067\n",
      "Epoch: 50, Loss: 0.044160\n",
      "Epoch: 51, Loss: 0.061082\n",
      "Epoch: 52, Loss: 0.069866\n",
      "Epoch: 53, Loss: 0.046712\n",
      "Epoch: 54, Loss: 0.048406\n",
      "Epoch: 55, Loss: 0.121991\n",
      "Epoch: 56, Loss: 0.054614\n",
      "Epoch: 57, Loss: 0.047618\n",
      "Epoch: 58, Loss: 0.049292\n",
      "Epoch: 59, Loss: 0.050612\n",
      "Epoch: 60, Loss: 0.028527\n",
      "Epoch: 61, Loss: 0.058009\n",
      "Epoch: 62, Loss: 0.025065\n",
      "Epoch: 63, Loss: 0.047355\n",
      "Epoch: 64, Loss: 0.035324\n",
      "Epoch: 65, Loss: 0.025528\n",
      "Epoch: 66, Loss: 0.021297\n",
      "Epoch: 67, Loss: 0.022558\n",
      "Epoch: 68, Loss: 0.045743\n",
      "Epoch: 69, Loss: 0.019792\n",
      "Epoch: 70, Loss: 0.020150\n",
      "Epoch: 71, Loss: 0.016505\n",
      "Epoch: 72, Loss: 0.016210\n",
      "Epoch: 73, Loss: 0.026020\n",
      "Epoch: 74, Loss: 0.022518\n",
      "Epoch: 75, Loss: 0.027720\n",
      "Epoch: 76, Loss: 0.024929\n",
      "Epoch: 77, Loss: 0.017914\n",
      "Epoch: 78, Loss: 0.018221\n",
      "Epoch: 79, Loss: 0.040590\n",
      "Epoch: 80, Loss: 0.018578\n",
      "Epoch: 81, Loss: 0.020919\n",
      "Epoch: 82, Loss: 0.022081\n",
      "Epoch: 83, Loss: 0.018415\n",
      "Epoch: 84, Loss: 0.026560\n",
      "Epoch: 85, Loss: 0.020766\n",
      "Epoch: 86, Loss: 0.010290\n",
      "Epoch: 87, Loss: 0.021399\n",
      "Epoch: 88, Loss: 0.010830\n",
      "Epoch: 89, Loss: 0.016672\n",
      "Epoch: 90, Loss: 0.018406\n",
      "Epoch: 91, Loss: 0.011147\n",
      "Epoch: 92, Loss: 0.011183\n",
      "Epoch: 93, Loss: 0.005185\n",
      "Epoch: 94, Loss: 0.012677\n",
      "Epoch: 95, Loss: 0.016735\n",
      "Epoch: 96, Loss: 0.010859\n",
      "Epoch: 97, Loss: 0.004316\n",
      "Epoch: 98, Loss: 0.012604\n",
      "Epoch: 99, Loss: 0.012586\n",
      "Epoch: 100, Loss: 0.018473\n",
      "Epoch: 101, Loss: 0.014515\n",
      "Epoch: 102, Loss: 0.010444\n",
      "Epoch: 103, Loss: 0.009382\n",
      "Epoch: 104, Loss: 0.020995\n",
      "Epoch: 105, Loss: 0.020238\n",
      "Epoch: 106, Loss: 0.009668\n",
      "Epoch: 107, Loss: 0.009512\n",
      "Epoch: 108, Loss: 0.009158\n",
      "Epoch: 109, Loss: 0.010432\n",
      "Epoch: 110, Loss: 0.010705\n",
      "Epoch: 111, Loss: 0.010716\n",
      "Epoch: 112, Loss: 0.012702\n",
      "Epoch: 113, Loss: 0.011001\n",
      "Epoch: 114, Loss: 0.008055\n",
      "Epoch: 115, Loss: 0.010548\n",
      "Epoch: 116, Loss: 0.008067\n",
      "Epoch: 117, Loss: 0.013340\n",
      "Epoch: 118, Loss: 0.010964\n",
      "Epoch: 119, Loss: 0.011770\n",
      "Epoch: 120, Loss: 0.007672\n",
      "Epoch: 121, Loss: 0.007100\n",
      "Epoch: 122, Loss: 0.009830\n",
      "Epoch: 123, Loss: 0.006942\n",
      "Epoch: 124, Loss: 0.004916\n",
      "Epoch: 125, Loss: 0.009598\n",
      "Epoch: 126, Loss: 0.013240\n",
      "Epoch: 127, Loss: 0.008069\n",
      "Epoch: 128, Loss: 0.008942\n",
      "Epoch: 129, Loss: 0.007344\n",
      "Epoch: 130, Loss: 0.009546\n",
      "Epoch: 131, Loss: 0.008768\n",
      "Epoch: 132, Loss: 0.006762\n",
      "Epoch: 133, Loss: 0.009747\n",
      "Epoch: 134, Loss: 0.009284\n",
      "Epoch: 135, Loss: 0.006729\n",
      "Epoch: 136, Loss: 0.008818\n",
      "Epoch: 137, Loss: 0.006113\n",
      "Epoch: 138, Loss: 0.004173\n",
      "Epoch: 139, Loss: 0.007826\n",
      "Epoch: 140, Loss: 0.010376\n",
      "Epoch: 141, Loss: 0.006940\n",
      "Epoch: 142, Loss: 0.004062\n",
      "Epoch: 143, Loss: 0.003860\n",
      "Epoch: 144, Loss: 0.006225\n",
      "Epoch: 145, Loss: 0.008771\n",
      "Epoch: 146, Loss: 0.003605\n",
      "Epoch: 147, Loss: 0.004846\n",
      "Epoch: 148, Loss: 0.005055\n",
      "Epoch: 149, Loss: 0.008338\n",
      "Epoch: 150, Loss: 0.007140\n",
      "Epoch: 151, Loss: 0.006007\n",
      "Epoch: 152, Loss: 0.006174\n",
      "Epoch: 153, Loss: 0.005411\n",
      "Epoch: 154, Loss: 0.005445\n",
      "Epoch: 155, Loss: 0.005144\n",
      "Epoch: 156, Loss: 0.008111\n",
      "Epoch: 157, Loss: 0.004756\n",
      "Epoch: 158, Loss: 0.004723\n",
      "Epoch: 159, Loss: 0.005206\n",
      "Epoch: 160, Loss: 0.004414\n",
      "Epoch: 161, Loss: 0.005699\n",
      "Epoch: 162, Loss: 0.004412\n",
      "Epoch: 163, Loss: 0.007336\n",
      "Epoch: 164, Loss: 0.003270\n",
      "Epoch: 165, Loss: 0.003552\n",
      "Epoch: 166, Loss: 0.004808\n",
      "Epoch: 167, Loss: 0.003323\n",
      "Epoch: 168, Loss: 0.003379\n",
      "Epoch: 169, Loss: 0.003295\n",
      "Epoch: 170, Loss: 0.002255\n",
      "Epoch: 171, Loss: 0.005535\n",
      "Epoch: 172, Loss: 0.005386\n",
      "Epoch: 173, Loss: 0.005266\n",
      "Epoch: 174, Loss: 0.005589\n",
      "Epoch: 175, Loss: 0.004632\n",
      "Epoch: 176, Loss: 0.004730\n",
      "Epoch: 177, Loss: 0.005402\n",
      "Epoch: 178, Loss: 0.002878\n",
      "Epoch: 179, Loss: 0.003790\n",
      "Epoch: 180, Loss: 0.003051\n",
      "Epoch: 181, Loss: 0.004035\n",
      "Epoch: 182, Loss: 0.005121\n",
      "Epoch: 183, Loss: 0.003714\n",
      "Epoch: 184, Loss: 0.004808\n",
      "Epoch: 185, Loss: 0.003594\n",
      "Epoch: 186, Loss: 0.004017\n",
      "Epoch: 187, Loss: 0.004882\n",
      "Epoch: 188, Loss: 0.002547\n",
      "Epoch: 189, Loss: 0.005582\n",
      "Epoch: 190, Loss: 0.006850\n",
      "Epoch: 191, Loss: 0.003129\n",
      "Epoch: 192, Loss: 0.002954\n",
      "Epoch: 193, Loss: 0.004216\n",
      "Epoch: 194, Loss: 0.004148\n",
      "Epoch: 195, Loss: 0.004568\n",
      "Epoch: 196, Loss: 0.005186\n",
      "Epoch: 197, Loss: 0.003908\n",
      "Epoch: 198, Loss: 0.002479\n",
      "Epoch: 199, Loss: 0.003019\n",
      "513.773672580719\n"
     ]
    }
   ],
   "source": [
    "import torch\n",
    "import torch.nn as nn\n",
    "import torch.optim as optim\n",
    "import time\n",
    "\n",
    "start= time.time()\n",
    "\n",
    "train_loader = torch.utils.data.DataLoader(cifar2, batch_size=64,\n",
    "                                           shuffle=True)\n",
    "\n",
    "model = nn.Sequential(\n",
    "            nn.Linear(3072, 512),\n",
    "            nn.Tanh(),\n",
    "            nn.Linear(512, 4),\n",
    "            nn.LogSoftmax(dim=1))\n",
    "\n",
    "learning_rate = 1e-2\n",
    "\n",
    "optimizer = optim.SGD(model.parameters(), lr=learning_rate)\n",
    "\n",
    "loss_fn = nn.NLLLoss()\n",
    "\n",
    "n_epochs = 200\n",
    "for epoch in range(n_epochs):\n",
    "    for imgs, labels in train_loader:\n",
    "        outputs = model(imgs.view(imgs.shape[0], -1))\n",
    "        loss = loss_fn(outputs, labels)\n",
    "\n",
    "        optimizer.zero_grad()\n",
    "        loss.backward()\n",
    "        optimizer.step()\n",
    "\n",
    "    print(\"Epoch: %d, Loss: %f\" % (epoch, float(loss)))\n",
    "    \n",
    "stop = time.time()\n",
    "duration = stop - start\n",
    "print(duration)"
   ]
  },
  {
   "cell_type": "code",
   "execution_count": 33,
   "metadata": {},
   "outputs": [
    {
     "name": "stdout",
     "output_type": "stream",
     "text": [
      "Accuracy: 1.000000\n"
     ]
    }
   ],
   "source": [
    "train_loader = torch.utils.data.DataLoader(cifar2, batch_size=64,\n",
    "                                           shuffle=False)\n",
    "\n",
    "correct = 0\n",
    "total = 0\n",
    "\n",
    "with torch.no_grad():\n",
    "    for imgs, labels in train_loader:\n",
    "        outputs = model(imgs.view(imgs.shape[0], -1))\n",
    "        _, predicted = torch.max(outputs, dim=1)\n",
    "        total += labels.shape[0]\n",
    "        correct += int((predicted == labels).sum())\n",
    "        \n",
    "print(\"Accuracy: %f\" % (correct / total))"
   ]
  },
  {
   "cell_type": "code",
   "execution_count": 34,
   "metadata": {},
   "outputs": [
    {
     "name": "stdout",
     "output_type": "stream",
     "text": [
      "Accuracy: 0.781250\n"
     ]
    }
   ],
   "source": [
    "val_loader = torch.utils.data.DataLoader(cifar2_val, batch_size=64,\n",
    "                                         shuffle=False)\n",
    "\n",
    "correct = 0\n",
    "total = 0\n",
    "\n",
    "with torch.no_grad():\n",
    "    for imgs, labels in val_loader:\n",
    "        outputs = model(imgs.view(imgs.shape[0], -1))\n",
    "        _, predicted = torch.max(outputs, dim=1)\n",
    "        total += labels.shape[0]\n",
    "        correct += int((predicted == labels).sum())\n",
    "        \n",
    "print(\"Accuracy: %f\" % (correct / total))"
   ]
  },
  {
   "cell_type": "code",
   "execution_count": null,
   "metadata": {},
   "outputs": [],
   "source": []
  }
 ],
 "metadata": {
  "kernelspec": {
   "display_name": "Python 3",
   "language": "python",
   "name": "python3"
  },
  "language_info": {
   "codemirror_mode": {
    "name": "ipython",
    "version": 3
   },
   "file_extension": ".py",
   "mimetype": "text/x-python",
   "name": "python",
   "nbconvert_exporter": "python",
   "pygments_lexer": "ipython3",
   "version": "3.8.5"
  }
 },
 "nbformat": 4,
 "nbformat_minor": 4
}
